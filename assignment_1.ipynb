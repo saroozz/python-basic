{
  "nbformat": 4,
  "nbformat_minor": 0,
  "metadata": {
    "colab": {
      "provenance": []
    },
    "kernelspec": {
      "name": "python3",
      "display_name": "Python 3"
    },
    "language_info": {
      "name": "python"
    }
  },
  "cells": [
    {
      "cell_type": "markdown",
      "source": [
        "# PYTHON BASIC\n",
        "1. What is Python, and why is it popular ??\n",
        "\n",
        "*   Python is a high-level, interpreted programming language that is widely used for web development, data analysis, automation, artificial intelligence,machine learning, and more.\n",
        "\n",
        "* simple and easy to learn, versatile, cross platform and large community\n",
        "\n",
        "2. What is an interpreter in Python ??\n",
        "\n",
        "* An interpreter is a program that reads and executes code line by line.\n",
        "\n",
        "* The Python interpreter takes your .py file (Python code) and runs it one line at a time, converting it into machine code that your computer understands.    \n",
        "\n",
        "3. What are pre-defined keywords in Python ??\n",
        "\n",
        "* Pre-defined keywords in Python are reserved words that have special meaning in the language. we cannot use them as variable names, function names, or identifiers.   \n",
        "\n",
        "* int, float, str, bool, null\n",
        "\n",
        "4. Can keywords be used as variable names ??\n",
        "\n",
        "* No, keywords cannot be used as variable names in Python.  \n",
        "\n",
        "* Because keywords are reserved words that have special meaning, using them as variable names will cause a syntax error.\n",
        "\n",
        "5. What is mutability in Python ??\n",
        "\n",
        "* Mutability means whether an object’s value can be changed after it is created. Mutable objects are, These can be modified after creation.   \n",
        "\n",
        "* list, dict (dictionary), set.\n",
        "\n",
        "6. Why are lists mutable, but tuples are immutable ??\n",
        "\n",
        "* Lists are Mutable, Lists are designed to store a collection of items that may need to be changed later. we can add, remove, or update elements in a list after it's created.\n",
        "\n",
        "* Tuples are Immutable, Tuples are meant to store fixed data. Once created, we cannot change, add, or remove elements in a tuple.\n",
        "\n",
        "7. What is the difference between “==” and “is” operators in Python ??\n",
        "\n",
        "* == - Equal to\tValues are same\ta == b\n",
        "* is - Identity\tObjects are same (same memory location)\ta is b  \n",
        "\n",
        "8. What are logical operators in Python ??\n",
        "     \n",
        "* and : Returns True if both conditions are True.\n",
        "* or  : Returns True if at least one condition is True.\n",
        "* not : Reverses the result- True becomes False, and vice versa.\n",
        "\n",
        "9. What is type casting in Python ??\n",
        "\n",
        "* Type casting means converting one data type into another.\n",
        "* For example, converting a number (int) into a string (str), or a string into a float (float).\n",
        "* Python provides built-in functions to do this.\n",
        "\n",
        "10. What is the difference between implicit and explicit type casting ??\n",
        "\n",
        "* Implicit - Python automatically converts the data type for ex: int + float → float\n",
        "* Explicit - You manually convert the data type using functions for ex: int(\"10\") → 10\n",
        "\n",
        "11. What is the purpose of conditional statements in Python ??\n",
        "\n",
        "* Conditional statements are used to make decisions in a Python program.\n",
        "* They allow the program to execute certain blocks of code only when specific conditions are true.\n",
        "* This helps your program behave differently based on different inputs or situations.\n",
        "\n",
        "12. How does the elif statement work ??\n",
        "\n",
        "* The elif statement stands for \"else if\". It lets you check multiple conditions, one after another.\n",
        "* Python checks each condition from top to bottom:\n",
        "\n",
        "* If the first if is True, it runs that block and skips the rest.\n",
        "\n",
        "* If not, it checks the elif condition.\n",
        "\n",
        "* If none are True, it runs the else block (if present).\n",
        "\n",
        "13. What is the difference between for and while loops ??\n",
        "\n",
        "* for : Used when you know how many times to loop.\n",
        "* while : Used when you know how many times to loop.\n",
        "\n",
        "14. Describe a scenario where a while loop is more suitable than a for loop ??\n",
        "\n",
        "* A while loop is best when you don’t know in advance how many times the loop needs to run — for example, when waiting for a user to give a correct input.\n",
        "\n",
        "\n",
        "\n",
        "\n",
        "\n",
        "\n",
        "    \n",
        "      \n",
        "\n",
        "\n",
        "\n",
        "\n",
        "\n",
        "\n"
      ],
      "metadata": {
        "id": "4XBJKX4aFSoH"
      }
    },
    {
      "cell_type": "code",
      "source": [
        "# python program to print hello world!\n",
        "# answer:\n",
        "print (\"hello world!\")"
      ],
      "metadata": {
        "colab": {
          "base_uri": "https://localhost:8080/"
        },
        "id": "UrjEPCS5VXqY",
        "outputId": "6fc0cb55-a963-4734-be58-23d9155970b8"
      },
      "execution_count": 1,
      "outputs": [
        {
          "output_type": "stream",
          "name": "stdout",
          "text": [
            "hello world!\n"
          ]
        }
      ]
    },
    {
      "cell_type": "code",
      "source": [
        "# python program that displays name and age\n",
        "# answer:\n",
        "name = input (\"enter your name: \")\n",
        "age = input (\"enter your age: \")\n",
        "print(\"your name is: \", name )\n",
        "print(\"your age is: \", age)"
      ],
      "metadata": {
        "colab": {
          "base_uri": "https://localhost:8080/"
        },
        "id": "g5nQYDjwWfwd",
        "outputId": "485b518f-840e-4b5f-fa16-03827733c16f"
      },
      "execution_count": 2,
      "outputs": [
        {
          "output_type": "stream",
          "name": "stdout",
          "text": [
            "enter your name: taara\n",
            "enter your age: 28\n",
            "your name is:  taara\n",
            "your age is:  28\n"
          ]
        }
      ]
    },
    {
      "cell_type": "code",
      "source": [
        "# python program to print all the pre-defined keywords in Python using the keyword library\n",
        "# answer:\n",
        "import keyword\n",
        "keywords_list = keyword.kwlist\n",
        "print(\"python keywords:\")\n",
        "for kw in keywords_list:\n",
        "  print(kw)\n"
      ],
      "metadata": {
        "colab": {
          "base_uri": "https://localhost:8080/"
        },
        "id": "MCUF5IHiXmgZ",
        "outputId": "ae692301-ab71-44f9-9a54-56e8a84d5cdf"
      },
      "execution_count": 3,
      "outputs": [
        {
          "output_type": "stream",
          "name": "stdout",
          "text": [
            "python keywords:\n",
            "False\n",
            "None\n",
            "True\n",
            "and\n",
            "as\n",
            "assert\n",
            "async\n",
            "await\n",
            "break\n",
            "class\n",
            "continue\n",
            "def\n",
            "del\n",
            "elif\n",
            "else\n",
            "except\n",
            "finally\n",
            "for\n",
            "from\n",
            "global\n",
            "if\n",
            "import\n",
            "in\n",
            "is\n",
            "lambda\n",
            "nonlocal\n",
            "not\n",
            "or\n",
            "pass\n",
            "raise\n",
            "return\n",
            "try\n",
            "while\n",
            "with\n",
            "yield\n"
          ]
        }
      ]
    },
    {
      "cell_type": "code",
      "source": [
        "# python program that checks if a given word is a Python keyword.\n",
        "# answer:\n",
        "import keyword\n",
        "a = \"else\"\n",
        "if keyword.iskeyword(a):\n",
        "  print(\"this is python keyword\")\n",
        "else:\n",
        "  print(\"this is not a python keyword\")"
      ],
      "metadata": {
        "colab": {
          "base_uri": "https://localhost:8080/"
        },
        "id": "M5nWrLTDa0-H",
        "outputId": "2d77e7fd-bc83-43d2-cc45-a4acb8108b48"
      },
      "execution_count": 8,
      "outputs": [
        {
          "output_type": "stream",
          "name": "stdout",
          "text": [
            "this is python keyword\n"
          ]
        }
      ]
    },
    {
      "cell_type": "code",
      "source": [
        "# Create a list and tuple in Python, and demonstrate how attempting to change an element works differently for each\n",
        "# answer\n",
        "my_list = [99, 10000, 100000]\n",
        "my_tuple = [1000, 10000, 100000]\n",
        "my_list[0] = 1000\n",
        "print(\"update list: \", my_list)\n",
        "try:\n",
        "    my_tuple[2] = 200000\n",
        "except TypeError as e:\n",
        "print(\"update tuple: \", my_tuple)"
      ],
      "metadata": {
        "colab": {
          "base_uri": "https://localhost:8080/",
          "height": 106
        },
        "id": "Bg62hXlWd3vm",
        "outputId": "cc57f454-5947-4319-dbcf-7e7bebd71543"
      },
      "execution_count": 19,
      "outputs": [
        {
          "output_type": "error",
          "ename": "IndentationError",
          "evalue": "expected an indented block after 'except' statement on line 9 (ipython-input-19-1528393631.py, line 10)",
          "traceback": [
            "\u001b[0;36m  File \u001b[0;32m\"/tmp/ipython-input-19-1528393631.py\"\u001b[0;36m, line \u001b[0;32m10\u001b[0m\n\u001b[0;31m    print(\"update tuple: \", my_tuple)\u001b[0m\n\u001b[0m    ^\u001b[0m\n\u001b[0;31mIndentationError\u001b[0m\u001b[0;31m:\u001b[0m expected an indented block after 'except' statement on line 9\n"
          ]
        }
      ]
    },
    {
      "cell_type": "code",
      "source": [
        "# Write a function to demonstrate the behavior of mutable and immutable arguments\n",
        "# answer\n",
        "def change_data(a,b):\n",
        "  a = a+5\n",
        "  b.append(100)\n",
        "  print(\"inside function: \")\n",
        "  print(\"a = \", a)\n",
        "  print(\"b = \", b)\n",
        "x = 10\n",
        "y = [10,20,30,40]\n",
        "change_data (x,y)\n",
        "print(\"outside function: \")\n",
        "print(\"x = \", x)\n",
        "print(\"y = \", y)\n"
      ],
      "metadata": {
        "colab": {
          "base_uri": "https://localhost:8080/"
        },
        "id": "-Hw_qA_AgvYJ",
        "outputId": "05cdfbeb-85db-4ead-8097-8475c6027315"
      },
      "execution_count": 20,
      "outputs": [
        {
          "output_type": "stream",
          "name": "stdout",
          "text": [
            "inside function: \n",
            "a =  15\n",
            "b =  [10, 20, 30, 40, 100]\n",
            "outside function: \n",
            "x =  10\n",
            "y =  [10, 20, 30, 40, 100]\n"
          ]
        }
      ]
    },
    {
      "cell_type": "code",
      "source": [
        "# python program that perform basic arithmetic operations on two user input numbers\n",
        "# answer\n",
        "a = int(input(\"enter first number: \"))\n",
        "b = int(input(\"enter second number: \"))\n",
        "c = a+b\n",
        "print (\"c = \", c)"
      ],
      "metadata": {
        "colab": {
          "base_uri": "https://localhost:8080/"
        },
        "id": "ax30rg4rkPcO",
        "outputId": "20cbb54a-d7b0-4ae7-cc49-a5c5f4ecfa89"
      },
      "execution_count": 27,
      "outputs": [
        {
          "output_type": "stream",
          "name": "stdout",
          "text": [
            "enter first number: 29000\n",
            "enter second number: 1000\n",
            "c =  30000\n"
          ]
        }
      ]
    },
    {
      "cell_type": "code",
      "source": [
        "# python program to demonstrate the use of logical operator\n",
        "# answer\n",
        "a = 500\n",
        "b = 800\n",
        "c = 1000\n",
        "if (b>a) and (a<c):\n",
        "  if (a<b) or (b<c):\n",
        "    print(\"true\")\n",
        "  else:\n",
        "    print(\"false\")\n",
        "else:\n",
        "  print(\"false\")\n"
      ],
      "metadata": {
        "colab": {
          "base_uri": "https://localhost:8080/"
        },
        "id": "k01cHr31mxrb",
        "outputId": "23f5a3a2-8298-4f02-f7e8-386e15a571e8"
      },
      "execution_count": 29,
      "outputs": [
        {
          "output_type": "stream",
          "name": "stdout",
          "text": [
            "true\n"
          ]
        }
      ]
    },
    {
      "cell_type": "code",
      "source": [
        "# python program to convert user input from string to integer, float, and boolean types.\n",
        "# answer\n",
        "value = input(\"Enter a value: \")\n",
        "int_value = int(value)\n",
        "print(\"Integer:\", int_value)\n",
        "float_value = float(value)\n",
        "print(\"Float:\", float_value)\n",
        "bool_value = bool(value)\n",
        "print(\"Boolean:\", bool_value)\n"
      ],
      "metadata": {
        "colab": {
          "base_uri": "https://localhost:8080/"
        },
        "id": "PWeiCrOepPf0",
        "outputId": "555f508e-a99d-483f-f295-7129eacf2363"
      },
      "execution_count": 32,
      "outputs": [
        {
          "output_type": "stream",
          "name": "stdout",
          "text": [
            "Enter a value: 1000\n",
            "Integer: 1000\n",
            "Float: 1000.0\n",
            "Boolean: True\n"
          ]
        }
      ]
    },
    {
      "cell_type": "code",
      "source": [
        "# python program to demonstrate type casting with list elements.\n",
        "# answer\n",
        "str_list = [\"10\", \"20\", \"30\"]\n",
        "int_list = []\n",
        "for item in str_list:\n",
        "    int_list.append(int(item))\n",
        "print(\"Original list (strings):\", str_list)\n",
        "print(\"Converted list (integers):\", int_list)\n"
      ],
      "metadata": {
        "colab": {
          "base_uri": "https://localhost:8080/"
        },
        "id": "TCma_KGvq19h",
        "outputId": "7aa494d3-1eb9-41c8-e15d-2734da831591"
      },
      "execution_count": 34,
      "outputs": [
        {
          "output_type": "stream",
          "name": "stdout",
          "text": [
            "Original list (strings): ['10', '20', '30']\n",
            "Converted list (integers): [10, 20, 30]\n"
          ]
        }
      ]
    },
    {
      "cell_type": "code",
      "source": [
        "# python program that checks if a number is positive, negative, or zero\n",
        "# answer\n",
        "num = float(input(\"Enter a number: \"))\n",
        "if num > 0:\n",
        "    print(\"The number is positive.\")\n",
        "elif num < 0:\n",
        "    print(\"The number is negative.\")\n",
        "else:\n",
        "    print(\"The number is zero.\")"
      ],
      "metadata": {
        "colab": {
          "base_uri": "https://localhost:8080/"
        },
        "id": "sH7VHL3prQJI",
        "outputId": "bb52bd10-3017-426b-bef5-12240858d86d"
      },
      "execution_count": 35,
      "outputs": [
        {
          "output_type": "stream",
          "name": "stdout",
          "text": [
            "Enter a number: 20\n",
            "The number is positive.\n"
          ]
        }
      ]
    },
    {
      "cell_type": "code",
      "source": [
        "# python program for loop to print numbers from 1 to 10.\n",
        "# answer\n",
        "for i in range(1, 11):\n",
        "    print(i)"
      ],
      "metadata": {
        "colab": {
          "base_uri": "https://localhost:8080/"
        },
        "id": "nGCTsHtMrjCo",
        "outputId": "3b744e04-53d0-45f0-d644-0f879a1dc603"
      },
      "execution_count": 36,
      "outputs": [
        {
          "output_type": "stream",
          "name": "stdout",
          "text": [
            "1\n",
            "2\n",
            "3\n",
            "4\n",
            "5\n",
            "6\n",
            "7\n",
            "8\n",
            "9\n",
            "10\n"
          ]
        }
      ]
    },
    {
      "cell_type": "code",
      "source": [
        "# python program to find the sum of all even numbers between 1 and 50.\n",
        "# answer\n",
        "total = 0\n",
        "for i in range(1, 51):\n",
        "    if i % 2 == 0:\n",
        "      print(i, end = \" \")\n",
        "      total += i\n",
        "print(\"\\n\\nSum of even numbers from 1 to 50 is:\", total)"
      ],
      "metadata": {
        "colab": {
          "base_uri": "https://localhost:8080/"
        },
        "id": "KjNy8HGxr0nT",
        "outputId": "6ce23ef0-c880-4806-8d2a-7bbec2833ac4"
      },
      "execution_count": 38,
      "outputs": [
        {
          "output_type": "stream",
          "name": "stdout",
          "text": [
            "2 4 6 8 10 12 14 16 18 20 22 24 26 28 30 32 34 36 38 40 42 44 46 48 50 \n",
            "\n",
            "Sum of even numbers from 1 to 50 is: 650\n"
          ]
        }
      ]
    },
    {
      "cell_type": "code",
      "source": [
        "# python program to reverse a string using a while loop.\n",
        "# answer\n",
        "text = input(\"Enter a string: \")\n",
        "\n",
        "i = len(text) - 1\n",
        "rev = \"\"\n",
        "\n",
        "while i >= 0:\n",
        "    rev = rev + text[i]\n",
        "    i = i - 1\n",
        "\n",
        "print(\"Reversed string:\", rev)"
      ],
      "metadata": {
        "colab": {
          "base_uri": "https://localhost:8080/"
        },
        "id": "24tuQfzWsx4Z",
        "outputId": "7aaf3813-9479-4a3f-f399-b05685cf187f"
      },
      "execution_count": 39,
      "outputs": [
        {
          "output_type": "stream",
          "name": "stdout",
          "text": [
            "Enter a string: python programming\n",
            "Reversed string: gnimmargorp nohtyp\n"
          ]
        }
      ]
    },
    {
      "cell_type": "code",
      "source": [
        "# python program to calculate the factorial of a number provided by the user using a while loop.\n",
        "# answer\n",
        "num = int(input(\"Enter a number: \"))\n",
        "factorial = 1\n",
        "i = 1\n",
        "while i <= num:\n",
        "    factorial = factorial * i\n",
        "    i = i + 1\n",
        "print(\"Factorial of\", num, \"is:\", factorial)"
      ],
      "metadata": {
        "colab": {
          "base_uri": "https://localhost:8080/"
        },
        "id": "9UTClz4DtPn5",
        "outputId": "a6ac954f-61f8-471c-bd72-c2ec0158d3d3"
      },
      "execution_count": 40,
      "outputs": [
        {
          "output_type": "stream",
          "name": "stdout",
          "text": [
            "Enter a number: 11\n",
            "Factorial of 11 is: 39916800\n"
          ]
        }
      ]
    }
  ]
}